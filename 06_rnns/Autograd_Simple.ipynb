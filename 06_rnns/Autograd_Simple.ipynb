{
 "cells": [
  {
   "cell_type": "markdown",
   "metadata": {},
   "source": [
    "# 예제로 본 간단한 자동미분"
   ]
  },
  {
   "cell_type": "code",
   "execution_count": 1,
   "metadata": {},
   "outputs": [],
   "source": [
    "from typing import Union, List\n",
    "\n",
    "import numpy as np\n",
    "\n",
    "np.set_printoptions(precision=4)"
   ]
  },
  {
   "cell_type": "code",
   "execution_count": 2,
   "metadata": {},
   "outputs": [
    {
     "data": {
      "text/plain": [
       "7"
      ]
     },
     "execution_count": 2,
     "metadata": {},
     "output_type": "execute_result"
    }
   ],
   "source": [
    "a = 3\n",
    "a.__add__(4)"
   ]
  },
  {
   "cell_type": "code",
   "execution_count": 3,
   "metadata": {},
   "outputs": [
    {
     "name": "stdout",
     "output_type": "stream",
     "text": [
      "[2 3 1 0]\n",
      "Addition using '__add__': [6 7 5 4]\n",
      "Addition using '+': [6 7 5 4]\n"
     ]
    }
   ],
   "source": [
    "a = np.array([2,3,1,0])\n",
    "\n",
    "print(a)\n",
    "print(\"Addition using '__add__':\", a.__add__(4))\n",
    "print(\"Addition using '+':\", a + 4)"
   ]
  },
  {
   "cell_type": "code",
   "execution_count": 3,
   "metadata": {},
   "outputs": [],
   "source": [
    "Numberable = Union[float, int]\n",
    "\n",
    "def ensure_number(num: Numberable):\n",
    "    if isinstance(num, NumberWithGrad):\n",
    "        return num\n",
    "    else:\n",
    "        return NumberWithGrad(num)        \n",
    "\n",
    "class NumberWithGrad(object):\n",
    "    \n",
    "    def __init__(self, \n",
    "                 num: Numberable,\n",
    "                 depends_on: List[Numberable] = None,\n",
    "                 creation_op: str = ''):\n",
    "        self.num = num\n",
    "        self.grad = None\n",
    "        self.depends_on = depends_on or []\n",
    "        self.creation_op = creation_op\n",
    "\n",
    "    def __add__(self, \n",
    "                other: Numberable):\n",
    "        return NumberWithGrad(self.num + ensure_number(other).num,\n",
    "                              depends_on = [self, ensure_number(other)],\n",
    "                              creation_op = 'add')\n",
    "    \n",
    "    def __mul__(self,\n",
    "                other: Numberable = None):\n",
    "\n",
    "        return NumberWithGrad(self.num * ensure_number(other).num,\n",
    "                              depends_on = [self, ensure_number(other)],\n",
    "                              creation_op = 'mul')\n",
    "    \n",
    "    def backward(self, backward_grad: Numberable = None):\n",
    "        if backward_grad is None: # backward가 처음 호출됨\n",
    "            self.grad = 1\n",
    "        else: \n",
    "            # 이 부분에서 기울기가 누적됨\n",
    "            # 기울기 정보가 아직 없다면 backward_grad로 설정\n",
    "            if self.grad is None:\n",
    "                self.grad = backward_grad\n",
    "            # 기울기 정보가 있다면 기존 기울깃값에 backward_grad를 더함\n",
    "            else:\n",
    "                self.grad += backward_grad\n",
    "        \n",
    "        if self.creation_op == \"add\":\n",
    "            # self.grad를 역방향으로 전달함 \n",
    "            # 둘 중 어느 요소를 증가시켜도 출력이 같은 값만큼 증가함\n",
    "            self.depends_on[0].backward(self.grad)\n",
    "            self.depends_on[1].backward(self.grad)    \n",
    "\n",
    "        if self.creation_op == \"mul\":\n",
    "\n",
    "            # 첫 번째 요소에 대한 미분 계산\n",
    "            new = self.depends_on[1] * self.grad\n",
    "            # 이 요소에 대한 미분을 역방향으로 전달\n",
    "            self.depends_on[0].backward(new.num)\n",
    "\n",
    "            # 두 번째 요소에 대한 미분 계산\n",
    "            new = self.depends_on[0] * self.grad\n",
    "            # 이 요소에 대한 미분을 역방향으로 전달\n",
    "            self.depends_on[1].backward(new.num)"
   ]
  },
  {
   "cell_type": "code",
   "execution_count": 4,
   "metadata": {},
   "outputs": [
    {
     "name": "stdout",
     "output_type": "stream",
     "text": [
      "4\n",
      "1\n"
     ]
    }
   ],
   "source": [
    "a = NumberWithGrad(3)\n",
    "b = a * 4\n",
    "c = b + 3\n",
    "c.backward()\n",
    "print(a.grad) # 예상한 값이 출력됨\n",
    "print(b.grad) # 예상한 값이 출력됨"
   ]
  },
  {
   "cell_type": "code",
   "execution_count": 5,
   "metadata": {},
   "outputs": [],
   "source": [
    "a = NumberWithGrad(3)"
   ]
  },
  {
   "cell_type": "code",
   "execution_count": 6,
   "metadata": {},
   "outputs": [],
   "source": [
    "b = a * 4\n",
    "c = b + 3\n",
    "d = (a + 2)\n",
    "e = c * d \n",
    "e.backward() "
   ]
  },
  {
   "cell_type": "code",
   "execution_count": 7,
   "metadata": {},
   "outputs": [
    {
     "data": {
      "text/plain": [
       "35"
      ]
     },
     "execution_count": 7,
     "metadata": {},
     "output_type": "execute_result"
    }
   ],
   "source": [
    "a.grad # 예상한 값이 출력됨"
   ]
  }
 ],
 "metadata": {
  "kernelspec": {
   "display_name": "Python 3",
   "language": "python",
   "name": "python3"
  },
  "language_info": {
   "codemirror_mode": {
    "name": "ipython",
    "version": 3
   },
   "file_extension": ".py",
   "mimetype": "text/x-python",
   "name": "python",
   "nbconvert_exporter": "python",
   "pygments_lexer": "ipython3",
   "version": "3.7.4"
  }
 },
 "nbformat": 4,
 "nbformat_minor": 2
}
